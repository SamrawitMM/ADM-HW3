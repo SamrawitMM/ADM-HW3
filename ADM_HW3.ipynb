we are going to upload the notebook here when its finished
